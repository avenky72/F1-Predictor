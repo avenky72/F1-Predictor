{
 "cells": [
  {
   "cell_type": "code",
   "execution_count": 44,
   "metadata": {},
   "outputs": [
    {
     "name": "stdout",
     "output_type": "stream",
     "text": [
      "Requirement already satisfied: pyarrow in /Users/atul/miniconda3/envs/cv-env/lib/python3.12/site-packages (21.0.0)\n"
     ]
    }
   ],
   "source": [
    "import sys\n",
    "!{sys.executable} -m pip install pyarrow\n",
    "import fastf1\n",
    "import pandas as pd\n",
    "import numpy as np\n",
    "from pathlib import Path\n",
    "import matplotlib.pyplot as plt\n",
    "import seaborn as sns\n",
    "import warnings\n",
    "warnings.filterwarnings('ignore')\n",
    "\n",
    "# Setup\n",
    "cache_path = Path('cache')\n",
    "cache_path.mkdir(exist_ok=True)\n",
    "fastf1.Cache.enable_cache(str(cache_path))\n",
    "\n",
    "pd.set_option('display.max_columns', 50)\n",
    "pd.set_option('display.max_rows', 100)"
   ]
  },
  {
   "cell_type": "code",
   "execution_count": 45,
   "metadata": {},
   "outputs": [],
   "source": [
    "def collect_and_save_season(year, output_format='csv'):\n",
    "    output_dir = Path(f'data/raw/{year}')\n",
    "    output_dir.mkdir(parents=True, exist_ok=True)\n",
    "    \n",
    "    all_races = []\n",
    "    schedule = fastf1.get_event_schedule(year)\n",
    "    \n",
    "    # Determine number of races\n",
    "    if year == 2021:\n",
    "        num_races = 22\n",
    "    elif year == 2022:\n",
    "        num_races = 22\n",
    "    elif year == 2023:\n",
    "        num_races = 22\n",
    "    else:\n",
    "        num_races = min(len(schedule), 23)\n",
    "    \n",
    "    print(f\"Collecting {year} season ({num_races} races)...\")\n",
    "    \n",
    "    for round_num in range(1, num_races + 1):\n",
    "        try:\n",
    "            print(f\"  Round {round_num}...\", end=\"\")\n",
    "            session = fastf1.get_session(year, round_num, 'R')\n",
    "            session.load(telemetry=False, laps=False, weather=False)\n",
    "            \n",
    "            # Core columns\n",
    "            columns_to_keep = ['Abbreviation', 'FullName', 'TeamName', \n",
    "                             'GridPosition', 'Position', 'Points', 'Status', 'Laps']\n",
    "            \n",
    "            # Add qualifying if available\n",
    "            for q in ['Q1', 'Q2', 'Q3']:\n",
    "                if q in session.results.columns:\n",
    "                    columns_to_keep.append(q)\n",
    "            \n",
    "            race_data = session.results[columns_to_keep].copy()\n",
    "            race_data['Year'] = year\n",
    "            race_data['Round'] = round_num\n",
    "            race_data['TrackName'] = session.event['EventName']\n",
    "            race_data['Country'] = session.event['Country']\n",
    "            \n",
    "            all_races.append(race_data)\n",
    "            print(f\" ✓ {session.event['EventName']}\")\n",
    "            \n",
    "        except Exception as e:\n",
    "            print(f\" ✗ Error: {e}\")\n",
    "            continue\n",
    "    \n",
    "    # Save all races in one file\n",
    "    if all_races:\n",
    "        combined = pd.concat(all_races, ignore_index=True)\n",
    "        \n",
    "        if output_format == 'csv':\n",
    "            output_file = output_dir / f'{year}_season.csv'\n",
    "            combined.to_csv(output_file, index=False)\n",
    "        else:\n",
    "            output_file = output_dir / f'{year}_season.parquet'\n",
    "            combined.to_parquet(output_file, index=False)\n",
    "            \n",
    "        print(f\"Saved {len(all_races)} races to {output_file}\")\n",
    "        return combined\n",
    "    \n",
    "    return pd.DataFrame()"
   ]
  },
  {
   "cell_type": "code",
   "execution_count": 46,
   "metadata": {},
   "outputs": [],
   "source": [
    "# Collect 2021 and 2022 data\n",
    "for year in [2021, 2022]:\n",
    "    data = collect_and_save_season(year, output_format='csv')\n",
    "    if not data.empty:\n",
    "        print(f\"{year}: Collected {len(data)} driver entries from {data['Round'].nunique()} races\\n\")"
   ]
  },
  {
   "cell_type": "code",
   "execution_count": null,
   "metadata": {},
   "outputs": [],
   "source": [
    "def load_season_data(year):\n",
    "    data_dir = Path(f'data/raw/{year}')\n",
    "    \n",
    "    # Try loading the combined season file\n",
    "    season_file_csv = data_dir / f'{year}_season.csv'\n",
    "    season_file_parquet = data_dir / f'{year}_season.parquet'\n",
    "    \n",
    "    if season_file_csv.exists():\n",
    "        return pd.read_csv(season_file_csv)\n",
    "    elif season_file_parquet.exists():\n",
    "        return pd.read_parquet(season_file_parquet)\n",
    "    else:\n",
    "        print(f\"No data files found for {year}\")\n",
    "        return pd.DataFrame()\n",
    "\n",
    "def load_multiple_seasons(years):\n",
    "    all_seasons = []\n",
    "    for year in years:\n",
    "        season_data = load_season_data(year)\n",
    "        if not season_data.empty:\n",
    "            all_seasons.append(season_data)\n",
    "    \n",
    "    if all_seasons:\n",
    "        return pd.concat(all_seasons, ignore_index=True)\n",
    "    return pd.DataFrame()"
   ]
  },
  {
   "cell_type": "code",
   "execution_count": null,
   "metadata": {},
   "outputs": [],
   "source": [
    "# Load the data\n",
    "data_2021 = load_season_data(2021)\n",
    "data_2022 = load_season_data(2022)\n",
    "\n",
    "print(f\"2021: {data_2021.shape}\")\n",
    "print(f\"2022: {data_2022.shape}\")\n",
    "\n",
    "if not data_2021.empty:\n",
    "    print(f\"2021 - Races: {data_2021['Round'].nunique()}, Drivers: {data_2021['Abbreviation'].nunique()}\")\n",
    "if not data_2022.empty:\n",
    "    print(f\"2022 - Races: {data_2022['Round'].nunique()}, Drivers: {data_2022['Abbreviation'].nunique()}\")\n",
    "\n",
    "# Combine both seasons\n",
    "train_data = load_multiple_seasons([2021, 2022])\n",
    "print(f\"\\nCombined training data: {train_data.shape}\")"
   ]
  }
 ],
 "metadata": {
  "kernelspec": {
   "display_name": "venv",
   "language": "python",
   "name": "python3"
  },
  "language_info": {
   "codemirror_mode": {
    "name": "ipython",
    "version": 3
   },
   "file_extension": ".py",
   "mimetype": "text/x-python",
   "name": "python",
   "nbconvert_exporter": "python",
   "pygments_lexer": "ipython3",
   "version": "3.12.8"
  }
 },
 "nbformat": 4,
 "nbformat_minor": 2
}
